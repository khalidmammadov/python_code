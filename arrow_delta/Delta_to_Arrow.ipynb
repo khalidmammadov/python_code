{
 "cells": [
  {
   "cell_type": "code",
   "execution_count": 70,
   "id": "88801949-1b53-4bc7-ad7b-28709c2f5e8b",
   "metadata": {},
   "outputs": [],
   "source": [
    "import pandas as pd\n",
    "from deltalake.writer import write_deltalake\n",
    "df = pd.DataFrame({\"id\": list(range(1,5))})"
   ]
  },
  {
   "cell_type": "code",
   "execution_count": 71,
   "id": "f45e746b-31ed-4dfb-a116-c0cac90db0b1",
   "metadata": {},
   "outputs": [
    {
     "data": {
      "text/plain": [
       "<bound method NDFrame.head of    id\n",
       "0   1\n",
       "1   2\n",
       "2   3\n",
       "3   4>"
      ]
     },
     "execution_count": 71,
     "metadata": {},
     "output_type": "execute_result"
    }
   ],
   "source": [
    "df.head"
   ]
  },
  {
   "cell_type": "code",
   "execution_count": 72,
   "id": "0291a6b2-9a1d-4121-afe9-c48c2a05ae54",
   "metadata": {},
   "outputs": [],
   "source": [
    "write_deltalake(\"sample-delta-table\",df)"
   ]
  },
  {
   "cell_type": "code",
   "execution_count": 73,
   "id": "928f6c76-4976-49df-934b-4d028c4e0fec",
   "metadata": {},
   "outputs": [],
   "source": [
    "import pyarrow.parquet as pq\n",
    "import pyarrow.compute as pc"
   ]
  },
  {
   "cell_type": "code",
   "execution_count": 74,
   "id": "a680e553-1445-49fa-9ad8-d1ab9876265c",
   "metadata": {},
   "outputs": [],
   "source": [
    "delta_ds = ds.dataset(\"sample-delta-table\", format=\"parquet\")"
   ]
  },
  {
   "cell_type": "code",
   "execution_count": 75,
   "id": "25604e78-930f-42e2-959a-97d53d964a08",
   "metadata": {},
   "outputs": [
    {
     "data": {
      "text/plain": [
       "['sample-delta-table/0-f2e2ec6d-f585-4175-b5d2-36857d3f6fc1-0.parquet']"
      ]
     },
     "execution_count": 75,
     "metadata": {},
     "output_type": "execute_result"
    }
   ],
   "source": [
    "delta_ds.files"
   ]
  },
  {
   "cell_type": "code",
   "execution_count": 76,
   "id": "1ce61c04-689b-43c3-9abe-b92036754d37",
   "metadata": {},
   "outputs": [
    {
     "name": "stdout",
     "output_type": "stream",
     "text": [
      "[\n",
      "  1,\n",
      "  2,\n",
      "  3,\n",
      "  4\n",
      "]\n"
     ]
    }
   ],
   "source": [
    "for batch in delta_ds.to_batches():\n",
    "    print(batch[\"id\"])"
   ]
  },
  {
   "cell_type": "code",
   "execution_count": 77,
   "id": "4d0924e7-e475-473b-9130-33bf06167655",
   "metadata": {},
   "outputs": [],
   "source": [
    "df = pd.DataFrame({\"id\": list(range(5,10))})"
   ]
  },
  {
   "cell_type": "code",
   "execution_count": 78,
   "id": "2bafe131-8e4f-4e26-b41c-c5df0b9fc758",
   "metadata": {},
   "outputs": [],
   "source": [
    "write_deltalake(\"sample-delta-table\",df, mode='overwrite')"
   ]
  },
  {
   "cell_type": "code",
   "execution_count": 79,
   "id": "4d3fd0c0-9f45-488b-b07b-b0c35ec0a48f",
   "metadata": {},
   "outputs": [
    {
     "data": {
      "text/plain": [
       "['sample-delta-table/0-f2e2ec6d-f585-4175-b5d2-36857d3f6fc1-0.parquet',\n",
       " 'sample-delta-table/1-40aa8bdd-b45c-4b7d-8bda-fc8b417f603a-0.parquet']"
      ]
     },
     "execution_count": 79,
     "metadata": {},
     "output_type": "execute_result"
    }
   ],
   "source": [
    "delta_ds = ds.dataset(\"sample-delta-table\", format=\"parquet\")\n",
    "delta_ds.files"
   ]
  },
  {
   "cell_type": "code",
   "execution_count": 80,
   "id": "bf9b63ec-0bcd-47e9-920f-c20557a63cac",
   "metadata": {},
   "outputs": [
    {
     "name": "stdout",
     "output_type": "stream",
     "text": [
      "[\n",
      "  1,\n",
      "  2,\n",
      "  3,\n",
      "  4\n",
      "]\n",
      "[\n",
      "  5,\n",
      "  6,\n",
      "  7,\n",
      "  8,\n",
      "  9\n",
      "]\n"
     ]
    }
   ],
   "source": [
    "for batch in delta_ds.to_batches():\n",
    "    print(batch[\"id\"])"
   ]
  },
  {
   "cell_type": "code",
   "execution_count": 81,
   "id": "88380789-cce5-46db-9261-0c7e504c75ed",
   "metadata": {},
   "outputs": [
    {
     "name": "stdout",
     "output_type": "stream",
     "text": [
      "Requirement already satisfied: deltalake in /opt/conda/lib/python3.10/site-packages (0.6.4)\n",
      "Requirement already satisfied: pyarrow>=7 in /opt/conda/lib/python3.10/site-packages (from deltalake) (10.0.1)\n",
      "Requirement already satisfied: numpy>=1.16.6 in /opt/conda/lib/python3.10/site-packages (from pyarrow>=7->deltalake) (1.23.5)\n"
     ]
    }
   ],
   "source": [
    "!pip install deltalake"
   ]
  },
  {
   "cell_type": "code",
   "execution_count": 82,
   "id": "f5297b8e-bf64-4135-b806-fc6b6ef4983e",
   "metadata": {},
   "outputs": [
    {
     "data": {
      "text/plain": [
       "1"
      ]
     },
     "execution_count": 82,
     "metadata": {},
     "output_type": "execute_result"
    }
   ],
   "source": [
    "from deltalake import DeltaTable\n",
    "\n",
    "dt = DeltaTable(\"sample-delta-table\")\n",
    "dt.version()"
   ]
  },
  {
   "cell_type": "code",
   "execution_count": 83,
   "id": "ec689da7-9c15-4256-a095-31e06b47ddbe",
   "metadata": {},
   "outputs": [],
   "source": [
    "arrow_ds = dt.to_pyarrow_table()"
   ]
  },
  {
   "cell_type": "code",
   "execution_count": 84,
   "id": "a47779dd-d72d-456a-9826-c61b429e65d5",
   "metadata": {},
   "outputs": [
    {
     "name": "stdout",
     "output_type": "stream",
     "text": [
      "[\n",
      "  5,\n",
      "  6,\n",
      "  7,\n",
      "  8,\n",
      "  9\n",
      "]\n"
     ]
    }
   ],
   "source": [
    "for batch in arrow_ds.to_batches():\n",
    "    print(batch[\"id\"])"
   ]
  },
  {
   "cell_type": "code",
   "execution_count": null,
   "id": "69103a08-2c7d-4c30-988f-6beb4ac0927e",
   "metadata": {},
   "outputs": [],
   "source": []
  }
 ],
 "metadata": {
  "kernelspec": {
   "display_name": "Python 3 (ipykernel)",
   "language": "python",
   "name": "python3"
  },
  "language_info": {
   "codemirror_mode": {
    "name": "ipython",
    "version": 3
   },
   "file_extension": ".py",
   "mimetype": "text/x-python",
   "name": "python",
   "nbconvert_exporter": "python",
   "pygments_lexer": "ipython3",
   "version": "3.10.8"
  }
 },
 "nbformat": 4,
 "nbformat_minor": 5
}
